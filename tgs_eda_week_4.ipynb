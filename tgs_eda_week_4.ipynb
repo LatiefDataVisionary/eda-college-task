{
  "nbformat": 4,
  "nbformat_minor": 0,
  "metadata": {
    "colab": {
      "provenance": [],
      "authorship_tag": "ABX9TyNRngPnVPwEz2dbrSCqGeee",
      "include_colab_link": true
    },
    "kernelspec": {
      "name": "python3",
      "display_name": "Python 3"
    },
    "language_info": {
      "name": "python"
    }
  },
  "cells": [
    {
      "cell_type": "markdown",
      "metadata": {
        "id": "view-in-github",
        "colab_type": "text"
      },
      "source": [
        "<a href=\"https://colab.research.google.com/github/LatiefDataVisionary/eda-college-task/blob/main/tgs_eda_week_4.ipynb\" target=\"_parent\"><img src=\"https://colab.research.google.com/assets/colab-badge.svg\" alt=\"Open In Colab\"/></a>"
      ]
    },
    {
      "cell_type": "markdown",
      "source": [
        "## **1. Mengimpor semua library yang diperlukan**"
      ],
      "metadata": {
        "id": "DcxW5lIdwI1q"
      }
    },
    {
      "cell_type": "code",
      "source": [
        "import pandas as pd\n",
        "from google.colab import files\n",
        "import seaborn as sns\n",
        "import matplotlib.pyplot as plt\n",
        "from scipy import stats\n",
        "import numpy as np\n"
      ],
      "metadata": {
        "id": "hd6Xqk2tiKzn"
      },
      "execution_count": null,
      "outputs": []
    },
    {
      "cell_type": "markdown",
      "source": [
        "## **2. Mengupload dataset ke colab**"
      ],
      "metadata": {
        "id": "GKqccNuuYdUH"
      }
    },
    {
      "cell_type": "code",
      "source": [
        "from google.colab import files\n",
        "uploaded = files.upload()"
      ],
      "metadata": {
        "colab": {
          "base_uri": "https://localhost:8080/",
          "height": 73
        },
        "id": "DIix7n5KbHdL",
        "outputId": "b28a38d4-47d2-4932-9b0a-02008da7705a"
      },
      "execution_count": null,
      "outputs": [
        {
          "output_type": "display_data",
          "data": {
            "text/plain": [
              "<IPython.core.display.HTML object>"
            ],
            "text/html": [
              "\n",
              "     <input type=\"file\" id=\"files-f37a07a9-848b-4e1b-9202-513a1bb85620\" name=\"files[]\" multiple disabled\n",
              "        style=\"border:none\" />\n",
              "     <output id=\"result-f37a07a9-848b-4e1b-9202-513a1bb85620\">\n",
              "      Upload widget is only available when the cell has been executed in the\n",
              "      current browser session. Please rerun this cell to enable.\n",
              "      </output>\n",
              "      <script>// Copyright 2017 Google LLC\n",
              "//\n",
              "// Licensed under the Apache License, Version 2.0 (the \"License\");\n",
              "// you may not use this file except in compliance with the License.\n",
              "// You may obtain a copy of the License at\n",
              "//\n",
              "//      http://www.apache.org/licenses/LICENSE-2.0\n",
              "//\n",
              "// Unless required by applicable law or agreed to in writing, software\n",
              "// distributed under the License is distributed on an \"AS IS\" BASIS,\n",
              "// WITHOUT WARRANTIES OR CONDITIONS OF ANY KIND, either express or implied.\n",
              "// See the License for the specific language governing permissions and\n",
              "// limitations under the License.\n",
              "\n",
              "/**\n",
              " * @fileoverview Helpers for google.colab Python module.\n",
              " */\n",
              "(function(scope) {\n",
              "function span(text, styleAttributes = {}) {\n",
              "  const element = document.createElement('span');\n",
              "  element.textContent = text;\n",
              "  for (const key of Object.keys(styleAttributes)) {\n",
              "    element.style[key] = styleAttributes[key];\n",
              "  }\n",
              "  return element;\n",
              "}\n",
              "\n",
              "// Max number of bytes which will be uploaded at a time.\n",
              "const MAX_PAYLOAD_SIZE = 100 * 1024;\n",
              "\n",
              "function _uploadFiles(inputId, outputId) {\n",
              "  const steps = uploadFilesStep(inputId, outputId);\n",
              "  const outputElement = document.getElementById(outputId);\n",
              "  // Cache steps on the outputElement to make it available for the next call\n",
              "  // to uploadFilesContinue from Python.\n",
              "  outputElement.steps = steps;\n",
              "\n",
              "  return _uploadFilesContinue(outputId);\n",
              "}\n",
              "\n",
              "// This is roughly an async generator (not supported in the browser yet),\n",
              "// where there are multiple asynchronous steps and the Python side is going\n",
              "// to poll for completion of each step.\n",
              "// This uses a Promise to block the python side on completion of each step,\n",
              "// then passes the result of the previous step as the input to the next step.\n",
              "function _uploadFilesContinue(outputId) {\n",
              "  const outputElement = document.getElementById(outputId);\n",
              "  const steps = outputElement.steps;\n",
              "\n",
              "  const next = steps.next(outputElement.lastPromiseValue);\n",
              "  return Promise.resolve(next.value.promise).then((value) => {\n",
              "    // Cache the last promise value to make it available to the next\n",
              "    // step of the generator.\n",
              "    outputElement.lastPromiseValue = value;\n",
              "    return next.value.response;\n",
              "  });\n",
              "}\n",
              "\n",
              "/**\n",
              " * Generator function which is called between each async step of the upload\n",
              " * process.\n",
              " * @param {string} inputId Element ID of the input file picker element.\n",
              " * @param {string} outputId Element ID of the output display.\n",
              " * @return {!Iterable<!Object>} Iterable of next steps.\n",
              " */\n",
              "function* uploadFilesStep(inputId, outputId) {\n",
              "  const inputElement = document.getElementById(inputId);\n",
              "  inputElement.disabled = false;\n",
              "\n",
              "  const outputElement = document.getElementById(outputId);\n",
              "  outputElement.innerHTML = '';\n",
              "\n",
              "  const pickedPromise = new Promise((resolve) => {\n",
              "    inputElement.addEventListener('change', (e) => {\n",
              "      resolve(e.target.files);\n",
              "    });\n",
              "  });\n",
              "\n",
              "  const cancel = document.createElement('button');\n",
              "  inputElement.parentElement.appendChild(cancel);\n",
              "  cancel.textContent = 'Cancel upload';\n",
              "  const cancelPromise = new Promise((resolve) => {\n",
              "    cancel.onclick = () => {\n",
              "      resolve(null);\n",
              "    };\n",
              "  });\n",
              "\n",
              "  // Wait for the user to pick the files.\n",
              "  const files = yield {\n",
              "    promise: Promise.race([pickedPromise, cancelPromise]),\n",
              "    response: {\n",
              "      action: 'starting',\n",
              "    }\n",
              "  };\n",
              "\n",
              "  cancel.remove();\n",
              "\n",
              "  // Disable the input element since further picks are not allowed.\n",
              "  inputElement.disabled = true;\n",
              "\n",
              "  if (!files) {\n",
              "    return {\n",
              "      response: {\n",
              "        action: 'complete',\n",
              "      }\n",
              "    };\n",
              "  }\n",
              "\n",
              "  for (const file of files) {\n",
              "    const li = document.createElement('li');\n",
              "    li.append(span(file.name, {fontWeight: 'bold'}));\n",
              "    li.append(span(\n",
              "        `(${file.type || 'n/a'}) - ${file.size} bytes, ` +\n",
              "        `last modified: ${\n",
              "            file.lastModifiedDate ? file.lastModifiedDate.toLocaleDateString() :\n",
              "                                    'n/a'} - `));\n",
              "    const percent = span('0% done');\n",
              "    li.appendChild(percent);\n",
              "\n",
              "    outputElement.appendChild(li);\n",
              "\n",
              "    const fileDataPromise = new Promise((resolve) => {\n",
              "      const reader = new FileReader();\n",
              "      reader.onload = (e) => {\n",
              "        resolve(e.target.result);\n",
              "      };\n",
              "      reader.readAsArrayBuffer(file);\n",
              "    });\n",
              "    // Wait for the data to be ready.\n",
              "    let fileData = yield {\n",
              "      promise: fileDataPromise,\n",
              "      response: {\n",
              "        action: 'continue',\n",
              "      }\n",
              "    };\n",
              "\n",
              "    // Use a chunked sending to avoid message size limits. See b/62115660.\n",
              "    let position = 0;\n",
              "    do {\n",
              "      const length = Math.min(fileData.byteLength - position, MAX_PAYLOAD_SIZE);\n",
              "      const chunk = new Uint8Array(fileData, position, length);\n",
              "      position += length;\n",
              "\n",
              "      const base64 = btoa(String.fromCharCode.apply(null, chunk));\n",
              "      yield {\n",
              "        response: {\n",
              "          action: 'append',\n",
              "          file: file.name,\n",
              "          data: base64,\n",
              "        },\n",
              "      };\n",
              "\n",
              "      let percentDone = fileData.byteLength === 0 ?\n",
              "          100 :\n",
              "          Math.round((position / fileData.byteLength) * 100);\n",
              "      percent.textContent = `${percentDone}% done`;\n",
              "\n",
              "    } while (position < fileData.byteLength);\n",
              "  }\n",
              "\n",
              "  // All done.\n",
              "  yield {\n",
              "    response: {\n",
              "      action: 'complete',\n",
              "    }\n",
              "  };\n",
              "}\n",
              "\n",
              "scope.google = scope.google || {};\n",
              "scope.google.colab = scope.google.colab || {};\n",
              "scope.google.colab._files = {\n",
              "  _uploadFiles,\n",
              "  _uploadFilesContinue,\n",
              "};\n",
              "})(self);\n",
              "</script> "
            ]
          },
          "metadata": {}
        },
        {
          "output_type": "stream",
          "name": "stdout",
          "text": [
            "Saving customer_churn_dataset_training_master.csv to customer_churn_dataset_training_master.csv\n"
          ]
        }
      ]
    },
    {
      "cell_type": "markdown",
      "source": [
        "## **3. Membaca file yang di-upload**"
      ],
      "metadata": {
        "id": "xwGHugT4bNFW"
      }
    },
    {
      "cell_type": "code",
      "source": [
        "df = pd.read_csv(list(uploaded.keys())[0], sep=';')\n",
        "print(df.head())"
      ],
      "metadata": {
        "id": "1zCuIqa0bMto",
        "colab": {
          "base_uri": "https://localhost:8080/"
        },
        "outputId": "633bd31a-2acd-45c3-d898-64d0d8e1ee9b"
      },
      "execution_count": null,
      "outputs": [
        {
          "output_type": "stream",
          "name": "stdout",
          "text": [
            "   CustomerID   Age  Gender  Tenure  Usage Frequency  Support Calls  \\\n",
            "0         2.0  30.0  Female    39.0             14.0            5.0   \n",
            "1         3.0  65.0  Female    49.0              1.0           10.0   \n",
            "2         4.0  55.0  Female    14.0              4.0            6.0   \n",
            "3         5.0  58.0    Male    38.0             21.0            7.0   \n",
            "4         6.0  23.0    Male    32.0             20.0            5.0   \n",
            "\n",
            "   Payment Delay Subscription Type Contract Length  Total Spend  \\\n",
            "0           18.0          Standard          Annual        932.0   \n",
            "1            8.0             Basic         Monthly        557.0   \n",
            "2           18.0             Basic       Quarterly        185.0   \n",
            "3            7.0          Standard         Monthly        396.0   \n",
            "4            8.0             Basic         Monthly        617.0   \n",
            "\n",
            "   Last Interaction  Churn  \n",
            "0              17.0    1.0  \n",
            "1               6.0    1.0  \n",
            "2               3.0    1.0  \n",
            "3              29.0    1.0  \n",
            "4              20.0    1.0  \n"
          ]
        }
      ]
    },
    {
      "cell_type": "markdown",
      "source": [
        "## **4. Mencari Missing Value**\n"
      ],
      "metadata": {
        "id": "bMa8M1u2fRM5"
      }
    },
    {
      "cell_type": "code",
      "source": [
        "missing_values = df.isnull().sum()\n",
        "print(\"Missing values disetiap kolom:\")\n",
        "print(missing_values)"
      ],
      "metadata": {
        "colab": {
          "base_uri": "https://localhost:8080/"
        },
        "id": "85jzqPq6frtD",
        "outputId": "84f41f5f-47a9-4e43-e848-3e2453bb4be0"
      },
      "execution_count": null,
      "outputs": [
        {
          "output_type": "stream",
          "name": "stdout",
          "text": [
            "Missing values disetiap kolom:\n",
            "CustomerID           1\n",
            "Age                  2\n",
            "Gender               3\n",
            "Tenure               4\n",
            "Usage Frequency      4\n",
            "Support Calls        3\n",
            "Payment Delay        2\n",
            "Subscription Type    1\n",
            "Contract Length      3\n",
            "Total Spend          4\n",
            "Last Interaction     2\n",
            "Churn                1\n",
            "dtype: int64\n"
          ]
        }
      ]
    },
    {
      "cell_type": "markdown",
      "source": [
        "## **5. Mengatasi Missing Value**\n"
      ],
      "metadata": {
        "id": "tKuxbFJjg26p"
      }
    },
    {
      "cell_type": "markdown",
      "source": [
        "### **a.  Mengisi missing values untuk kolom numerik dengan mean**\n"
      ],
      "metadata": {
        "id": "tGJYsmmgp296"
      }
    },
    {
      "cell_type": "code",
      "source": [
        "numeric_columns = df.select_dtypes(include=['float64', 'int64']).columns\n",
        "for col in numeric_columns:\n",
        "    df[col].fillna(df[col].mean(), inplace=True)"
      ],
      "metadata": {
        "colab": {
          "base_uri": "https://localhost:8080/"
        },
        "id": "uSehqkXehFRq",
        "outputId": "98571822-b259-434c-9b52-50e5e168ac05"
      },
      "execution_count": null,
      "outputs": [
        {
          "output_type": "stream",
          "name": "stderr",
          "text": [
            "<ipython-input-12-2e7964c9d568>:3: FutureWarning: A value is trying to be set on a copy of a DataFrame or Series through chained assignment using an inplace method.\n",
            "The behavior will change in pandas 3.0. This inplace method will never work because the intermediate object on which we are setting values always behaves as a copy.\n",
            "\n",
            "For example, when doing 'df[col].method(value, inplace=True)', try using 'df.method({col: value}, inplace=True)' or df[col] = df[col].method(value) instead, to perform the operation inplace on the original object.\n",
            "\n",
            "\n",
            "  df[col].fillna(df[col].mean(), inplace=True)\n"
          ]
        }
      ]
    },
    {
      "cell_type": "markdown",
      "source": [
        "### **b. Mengisi missing values untuk kolom kategorikal dengan mode**\n"
      ],
      "metadata": {
        "id": "fIOPJTfluCy1"
      }
    },
    {
      "cell_type": "code",
      "source": [
        "categorical_columns = df.select_dtypes(include=['object']).columns\n",
        "for col in categorical_columns:\n",
        "    df[col].fillna(df[col].mode()[0], inplace=True)"
      ],
      "metadata": {
        "colab": {
          "base_uri": "https://localhost:8080/"
        },
        "id": "AVr1eLmNufaT",
        "outputId": "92fd4ba1-6334-49b2-c94d-caedca037fea"
      },
      "execution_count": null,
      "outputs": [
        {
          "output_type": "stream",
          "name": "stderr",
          "text": [
            "<ipython-input-13-64ca4310aba6>:3: FutureWarning: A value is trying to be set on a copy of a DataFrame or Series through chained assignment using an inplace method.\n",
            "The behavior will change in pandas 3.0. This inplace method will never work because the intermediate object on which we are setting values always behaves as a copy.\n",
            "\n",
            "For example, when doing 'df[col].method(value, inplace=True)', try using 'df.method({col: value}, inplace=True)' or df[col] = df[col].method(value) instead, to perform the operation inplace on the original object.\n",
            "\n",
            "\n",
            "  df[col].fillna(df[col].mode()[0], inplace=True)\n"
          ]
        }
      ]
    },
    {
      "cell_type": "markdown",
      "source": [
        "### **c. Menampilkan jumlah missing values setelah diisi**\n"
      ],
      "metadata": {
        "id": "3z0swctvu11h"
      }
    },
    {
      "cell_type": "code",
      "source": [
        "missing_values_after = df.isnull().sum()\n",
        "print(\"Missing values setelah diatasi:\")\n",
        "print(missing_values_after)"
      ],
      "metadata": {
        "colab": {
          "base_uri": "https://localhost:8080/"
        },
        "id": "0ltTV8WsvJNB",
        "outputId": "4394ada4-2946-4f8f-f512-a179dfb2b30d"
      },
      "execution_count": null,
      "outputs": [
        {
          "output_type": "stream",
          "name": "stdout",
          "text": [
            "Missing values setelah diatasi:\n",
            "CustomerID           0\n",
            "Age                  0\n",
            "Gender               0\n",
            "Tenure               0\n",
            "Usage Frequency      0\n",
            "Support Calls        0\n",
            "Payment Delay        0\n",
            "Subscription Type    0\n",
            "Contract Length      0\n",
            "Total Spend          0\n",
            "Last Interaction     0\n",
            "Churn                0\n",
            "dtype: int64\n"
          ]
        }
      ]
    },
    {
      "cell_type": "markdown",
      "source": [
        "## **6. Mencari Outlier**"
      ],
      "metadata": {
        "id": "T3k8_jIdxumZ"
      }
    },
    {
      "cell_type": "markdown",
      "source": [
        "### **a. Menggunakan Boxplot untuk Semua Kolom Numerik**"
      ],
      "metadata": {
        "id": "G7bQUTNgyxEP"
      }
    },
    {
      "cell_type": "code",
      "source": [
        "# Mengambil kolom numerik dari dataframe\n",
        "numeric_columns = df.select_dtypes(include=['float64', 'int64']).columns\n",
        "\n",
        "# Membuat boxplot untuk setiap kolom numerik\n",
        "plt.figure(figsize=(15, 10))\n",
        "for i, col in enumerate(numeric_columns):\n",
        "    plt.subplot(len(numeric_columns)//3 + 1, 3, i + 1)\n",
        "    sns.boxplot(x=df[col])\n",
        "    plt.title(f'Boxplot of {col}')\n",
        "\n",
        "plt.tight_layout()\n",
        "plt.show()\n"
      ],
      "metadata": {
        "colab": {
          "base_uri": "https://localhost:8080/",
          "height": 781
        },
        "id": "HXSuGVvqx3Mg",
        "outputId": "7b3243d4-fff1-4a50-8cba-5b84a0a5b495"
      },
      "execution_count": null,
      "outputs": [
        {
          "output_type": "display_data",
          "data": {
            "text/plain": [
              "<Figure size 1500x1000 with 9 Axes>"
            ],
            "image/png": "[encoded data removed]"
          },
          "metadata": {}
        }
      ]
    },
    {
      "cell_type": "markdown",
      "source": [
        "### **b. Menggunakan Z-Score untuk Mendeteksi Outlier di Semua Kolom**"
      ],
      "metadata": {
        "id": "Xu2oJVP7zWF9"
      }
    },
    {
      "cell_type": "code",
      "source": [
        "outliers_dict = {}\n",
        "\n",
        "# Mendeteksi outlier menggunakan z-score untuk setiap kolom numerik\n",
        "for col in numeric_columns:\n",
        "    z_scores = np.abs(stats.zscore(df[col]))\n",
        "    threshold = 3  # Z-score threshold\n",
        "    outliers = df[z_scores > threshold]\n",
        "    outliers_dict[col] = outliers\n",
        "    print(f\"Outliers in {col}:\")\n",
        "    print(outliers)\n",
        "\n",
        "# menampilkan outlier di setiap kolom.\n",
        "for col, outliers in outliers_dict.items():\n",
        "    print(f\"Jumlah outliers di {col}: {len(outliers)}\")\n"
      ],
      "metadata": {
        "colab": {
          "base_uri": "https://localhost:8080/"
        },
        "id": "JHq65IJwznyD",
        "outputId": "e0c3abd6-87c1-4bef-d4a0-39f4399a0b69"
      },
      "execution_count": null,
      "outputs": [
        {
          "output_type": "stream",
          "name": "stdout",
          "text": [
            "Outliers in CustomerID:\n",
            "Empty DataFrame\n",
            "Columns: [CustomerID, Age, Gender, Tenure, Usage Frequency, Support Calls, Payment Delay, Subscription Type, Contract Length, Total Spend, Last Interaction, Churn]\n",
            "Index: []\n",
            "Outliers in Age:\n",
            "        CustomerID      Age Gender  Tenure  Usage Frequency  Support Calls  \\\n",
            "8             11.0    390.0   Male    12.0              5.0            7.0   \n",
            "200141    204987.0  40000.0   Male    11.0              1.0            2.0   \n",
            "\n",
            "        Payment Delay Subscription Type Contract Length  Total Spend  \\\n",
            "8                 4.0          Standard       Quarterly       969.00   \n",
            "200141           24.0             Basic       Quarterly       731.33   \n",
            "\n",
            "        Last Interaction  Churn  \n",
            "8                   13.0    1.0  \n",
            "200141              20.0    1.0  \n",
            "Outliers in Tenure:\n",
            "Empty DataFrame\n",
            "Columns: [CustomerID, Age, Gender, Tenure, Usage Frequency, Support Calls, Payment Delay, Subscription Type, Contract Length, Total Spend, Last Interaction, Churn]\n",
            "Index: []\n",
            "Outliers in Usage Frequency:\n",
            "Empty DataFrame\n",
            "Columns: [CustomerID, Age, Gender, Tenure, Usage Frequency, Support Calls, Payment Delay, Subscription Type, Contract Length, Total Spend, Last Interaction, Churn]\n",
            "Index: []\n",
            "Outliers in Support Calls:\n",
            "Empty DataFrame\n",
            "Columns: [CustomerID, Age, Gender, Tenure, Usage Frequency, Support Calls, Payment Delay, Subscription Type, Contract Length, Total Spend, Last Interaction, Churn]\n",
            "Index: []\n",
            "Outliers in Payment Delay:\n",
            "Empty DataFrame\n",
            "Columns: [CustomerID, Age, Gender, Tenure, Usage Frequency, Support Calls, Payment Delay, Subscription Type, Contract Length, Total Spend, Last Interaction, Churn]\n",
            "Index: []\n",
            "Outliers in Total Spend:\n",
            "Empty DataFrame\n",
            "Columns: [CustomerID, Age, Gender, Tenure, Usage Frequency, Support Calls, Payment Delay, Subscription Type, Contract Length, Total Spend, Last Interaction, Churn]\n",
            "Index: []\n",
            "Outliers in Last Interaction:\n",
            "Empty DataFrame\n",
            "Columns: [CustomerID, Age, Gender, Tenure, Usage Frequency, Support Calls, Payment Delay, Subscription Type, Contract Length, Total Spend, Last Interaction, Churn]\n",
            "Index: []\n",
            "Outliers in Churn:\n",
            "Empty DataFrame\n",
            "Columns: [CustomerID, Age, Gender, Tenure, Usage Frequency, Support Calls, Payment Delay, Subscription Type, Contract Length, Total Spend, Last Interaction, Churn]\n",
            "Index: []\n",
            "Jumlah outliers di CustomerID: 0\n",
            "Jumlah outliers di Age: 2\n",
            "Jumlah outliers di Tenure: 0\n",
            "Jumlah outliers di Usage Frequency: 0\n",
            "Jumlah outliers di Support Calls: 0\n",
            "Jumlah outliers di Payment Delay: 0\n",
            "Jumlah outliers di Total Spend: 0\n",
            "Jumlah outliers di Last Interaction: 0\n",
            "Jumlah outliers di Churn: 0\n"
          ]
        }
      ]
    }
  ]
}