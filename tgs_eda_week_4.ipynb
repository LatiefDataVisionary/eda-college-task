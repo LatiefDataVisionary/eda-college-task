{
  "nbformat": 4,
  "nbformat_minor": 0,
  "metadata": {
    "colab": {
      "provenance": [],
      "authorship_tag": "ABX9TyMeCu/zDvttgCTF1aQUnZR8",
      "include_colab_link": true
    },
    "kernelspec": {
      "name": "python3",
      "display_name": "Python 3"
    },
    "language_info": {
      "name": "python"
    }
  },
  "cells": [
    {
      "cell_type": "markdown",
      "metadata": {
        "id": "view-in-github",
        "colab_type": "text"
      },
      "source": [
        "<a href=\"https://colab.research.google.com/github/LatiefDataVisionary/eda-college-task/blob/main/tgs_eda_week_4.ipynb\" target=\"_parent\"><img src=\"https://colab.research.google.com/assets/colab-badge.svg\" alt=\"Open In Colab\"/></a>"
      ]
    },
    {
      "cell_type": "markdown",
      "source": [
        "## **1. Mengimpor semua library yang diperlukan**"
      ],
      "metadata": {
        "id": "DcxW5lIdwI1q"
      }
    },
    {
      "cell_type": "code",
      "source": [
        "import pandas as pd\n",
        "from google.colab import files\n",
        "import seaborn as sns\n",
        "import matplotlib.pyplot as plt\n",
        "from scipy import stats\n",
        "import numpy as np\n"
      ],
      "metadata": {
        "id": "hd6Xqk2tiKzn"
      },
      "execution_count": 1,
      "outputs": []
    },
    {
      "cell_type": "markdown",
      "source": [
        "## **2. Mengupload dataset ke colab**"
      ],
      "metadata": {
        "id": "GKqccNuuYdUH"
      }
    },
    {
      "cell_type": "code",
      "source": [
        "from google.colab import files\n",
        "uploaded = files.upload()"
      ],
      "metadata": {
        "colab": {
          "base_uri": "https://localhost:8080/",
          "height": 73
        },
        "id": "DIix7n5KbHdL",
        "outputId": "3c0d0b71-9bf4-41dd-8af7-04d2ad8980d6"
      },
      "execution_count": 3,
      "outputs": [
        {
          "output_type": "display_data",
          "data": {
            "text/plain": [
              "<IPython.core.display.HTML object>"
            ],
            "text/html": [
              "\n",
              "     <input type=\"file\" id=\"files-f4bfb4b4-6a41-42a9-9208-8ed32b837d55\" name=\"files[]\" multiple disabled\n",
              "        style=\"border:none\" />\n",
              "     <output id=\"result-f4bfb4b4-6a41-42a9-9208-8ed32b837d55\">\n",
              "      Upload widget is only available when the cell has been executed in the\n",
              "      current browser session. Please rerun this cell to enable.\n",
              "      </output>\n",
              "      <script>// Copyright 2017 Google LLC\n",
              "//\n",
              "// Licensed under the Apache License, Version 2.0 (the \"License\");\n",
              "// you may not use this file except in compliance with the License.\n",
              "// You may obtain a copy of the License at\n",
              "//\n",
              "//      http://www.apache.org/licenses/LICENSE-2.0\n",
              "//\n",
              "// Unless required by applicable law or agreed to in writing, software\n",
              "// distributed under the License is distributed on an \"AS IS\" BASIS,\n",
              "// WITHOUT WARRANTIES OR CONDITIONS OF ANY KIND, either express or implied.\n",
              "// See the License for the specific language governing permissions and\n",
              "// limitations under the License.\n",
              "\n",
              "/**\n",
              " * @fileoverview Helpers for google.colab Python module.\n",
              " */\n",
              "(function(scope) {\n",
              "function span(text, styleAttributes = {}) {\n",
              "  const element = document.createElement('span');\n",
              "  element.textContent = text;\n",
              "  for (const key of Object.keys(styleAttributes)) {\n",
              "    element.style[key] = styleAttributes[key];\n",
              "  }\n",
              "  return element;\n",
              "}\n",
              "\n",
              "// Max number of bytes which will be uploaded at a time.\n",
              "const MAX_PAYLOAD_SIZE = 100 * 1024;\n",
              "\n",
              "function _uploadFiles(inputId, outputId) {\n",
              "  const steps = uploadFilesStep(inputId, outputId);\n",
              "  const outputElement = document.getElementById(outputId);\n",
              "  // Cache steps on the outputElement to make it available for the next call\n",
              "  // to uploadFilesContinue from Python.\n",
              "  outputElement.steps = steps;\n",
              "\n",
              "  return _uploadFilesContinue(outputId);\n",
              "}\n",
              "\n",
              "// This is roughly an async generator (not supported in the browser yet),\n",
              "// where there are multiple asynchronous steps and the Python side is going\n",
              "// to poll for completion of each step.\n",
              "// This uses a Promise to block the python side on completion of each step,\n",
              "// then passes the result of the previous step as the input to the next step.\n",
              "function _uploadFilesContinue(outputId) {\n",
              "  const outputElement = document.getElementById(outputId);\n",
              "  const steps = outputElement.steps;\n",
              "\n",
              "  const next = steps.next(outputElement.lastPromiseValue);\n",
              "  return Promise.resolve(next.value.promise).then((value) => {\n",
              "    // Cache the last promise value to make it available to the next\n",
              "    // step of the generator.\n",
              "    outputElement.lastPromiseValue = value;\n",
              "    return next.value.response;\n",
              "  });\n",
              "}\n",
              "\n",
              "/**\n",
              " * Generator function which is called between each async step of the upload\n",
              " * process.\n",
              " * @param {string} inputId Element ID of the input file picker element.\n",
              " * @param {string} outputId Element ID of the output display.\n",
              " * @return {!Iterable<!Object>} Iterable of next steps.\n",
              " */\n",
              "function* uploadFilesStep(inputId, outputId) {\n",
              "  const inputElement = document.getElementById(inputId);\n",
              "  inputElement.disabled = false;\n",
              "\n",
              "  const outputElement = document.getElementById(outputId);\n",
              "  outputElement.innerHTML = '';\n",
              "\n",
              "  const pickedPromise = new Promise((resolve) => {\n",
              "    inputElement.addEventListener('change', (e) => {\n",
              "      resolve(e.target.files);\n",
              "    });\n",
              "  });\n",
              "\n",
              "  const cancel = document.createElement('button');\n",
              "  inputElement.parentElement.appendChild(cancel);\n",
              "  cancel.textContent = 'Cancel upload';\n",
              "  const cancelPromise = new Promise((resolve) => {\n",
              "    cancel.onclick = () => {\n",
              "      resolve(null);\n",
              "    };\n",
              "  });\n",
              "\n",
              "  // Wait for the user to pick the files.\n",
              "  const files = yield {\n",
              "    promise: Promise.race([pickedPromise, cancelPromise]),\n",
              "    response: {\n",
              "      action: 'starting',\n",
              "    }\n",
              "  };\n",
              "\n",
              "  cancel.remove();\n",
              "\n",
              "  // Disable the input element since further picks are not allowed.\n",
              "  inputElement.disabled = true;\n",
              "\n",
              "  if (!files) {\n",
              "    return {\n",
              "      response: {\n",
              "        action: 'complete',\n",
              "      }\n",
              "    };\n",
              "  }\n",
              "\n",
              "  for (const file of files) {\n",
              "    const li = document.createElement('li');\n",
              "    li.append(span(file.name, {fontWeight: 'bold'}));\n",
              "    li.append(span(\n",
              "        `(${file.type || 'n/a'}) - ${file.size} bytes, ` +\n",
              "        `last modified: ${\n",
              "            file.lastModifiedDate ? file.lastModifiedDate.toLocaleDateString() :\n",
              "                                    'n/a'} - `));\n",
              "    const percent = span('0% done');\n",
              "    li.appendChild(percent);\n",
              "\n",
              "    outputElement.appendChild(li);\n",
              "\n",
              "    const fileDataPromise = new Promise((resolve) => {\n",
              "      const reader = new FileReader();\n",
              "      reader.onload = (e) => {\n",
              "        resolve(e.target.result);\n",
              "      };\n",
              "      reader.readAsArrayBuffer(file);\n",
              "    });\n",
              "    // Wait for the data to be ready.\n",
              "    let fileData = yield {\n",
              "      promise: fileDataPromise,\n",
              "      response: {\n",
              "        action: 'continue',\n",
              "      }\n",
              "    };\n",
              "\n",
              "    // Use a chunked sending to avoid message size limits. See b/62115660.\n",
              "    let position = 0;\n",
              "    do {\n",
              "      const length = Math.min(fileData.byteLength - position, MAX_PAYLOAD_SIZE);\n",
              "      const chunk = new Uint8Array(fileData, position, length);\n",
              "      position += length;\n",
              "\n",
              "      const base64 = btoa(String.fromCharCode.apply(null, chunk));\n",
              "      yield {\n",
              "        response: {\n",
              "          action: 'append',\n",
              "          file: file.name,\n",
              "          data: base64,\n",
              "        },\n",
              "      };\n",
              "\n",
              "      let percentDone = fileData.byteLength === 0 ?\n",
              "          100 :\n",
              "          Math.round((position / fileData.byteLength) * 100);\n",
              "      percent.textContent = `${percentDone}% done`;\n",
              "\n",
              "    } while (position < fileData.byteLength);\n",
              "  }\n",
              "\n",
              "  // All done.\n",
              "  yield {\n",
              "    response: {\n",
              "      action: 'complete',\n",
              "    }\n",
              "  };\n",
              "}\n",
              "\n",
              "scope.google = scope.google || {};\n",
              "scope.google.colab = scope.google.colab || {};\n",
              "scope.google.colab._files = {\n",
              "  _uploadFiles,\n",
              "  _uploadFilesContinue,\n",
              "};\n",
              "})(self);\n",
              "</script> "
            ]
          },
          "metadata": {}
        },
        {
          "output_type": "stream",
          "name": "stdout",
          "text": [
            "Saving customer_churn_dataset_training_master.csv to customer_churn_dataset_training_master.csv\n"
          ]
        }
      ]
    },
    {
      "cell_type": "markdown",
      "source": [
        "## **3. Membaca file yang di-upload**"
      ],
      "metadata": {
        "id": "xwGHugT4bNFW"
      }
    },
    {
      "cell_type": "code",
      "source": [
        "df = pd.read_csv(list(uploaded.keys())[0], sep=';')\n",
        "print(df.head())"
      ],
      "metadata": {
        "id": "1zCuIqa0bMto",
        "colab": {
          "base_uri": "https://localhost:8080/"
        },
        "outputId": "584872ff-4a91-4ba6-f527-66f89e131554"
      },
      "execution_count": 4,
      "outputs": [
        {
          "output_type": "stream",
          "name": "stdout",
          "text": [
            "   CustomerID   Age  Gender  Tenure  Usage Frequency  Support Calls  \\\n",
            "0         2.0  30.0  Female    39.0             14.0            5.0   \n",
            "1         3.0  65.0  Female    49.0              1.0           10.0   \n",
            "2         4.0  55.0  Female    14.0              4.0            6.0   \n",
            "3         5.0  58.0    Male    38.0             21.0            7.0   \n",
            "4         6.0  23.0    Male    32.0             20.0            5.0   \n",
            "\n",
            "   Payment Delay Subscription Type Contract Length  Total Spend  \\\n",
            "0           18.0          Standard          Annual        932.0   \n",
            "1            8.0             Basic         Monthly        557.0   \n",
            "2           18.0             Basic       Quarterly        185.0   \n",
            "3            7.0          Standard         Monthly        396.0   \n",
            "4            8.0             Basic         Monthly        617.0   \n",
            "\n",
            "   Last Interaction  Churn  \n",
            "0              17.0    1.0  \n",
            "1               6.0    1.0  \n",
            "2               3.0    1.0  \n",
            "3              29.0    1.0  \n",
            "4              20.0    1.0  \n"
          ]
        }
      ]
    },
    {
      "cell_type": "markdown",
      "source": [
        "## **4. Mencari Missing Value**\n"
      ],
      "metadata": {
        "id": "bMa8M1u2fRM5"
      }
    },
    {
      "cell_type": "code",
      "source": [
        "missing_values = df.isnull().sum()\n",
        "print(\"Missing values disetiap kolom:\")\n",
        "print(missing_values)"
      ],
      "metadata": {
        "colab": {
          "base_uri": "https://localhost:8080/"
        },
        "id": "85jzqPq6frtD",
        "outputId": "ef09e5ed-5a46-4e56-d5ad-966ca097facf"
      },
      "execution_count": 5,
      "outputs": [
        {
          "output_type": "stream",
          "name": "stdout",
          "text": [
            "Missing values disetiap kolom:\n",
            "CustomerID           1\n",
            "Age                  2\n",
            "Gender               3\n",
            "Tenure               4\n",
            "Usage Frequency      4\n",
            "Support Calls        3\n",
            "Payment Delay        2\n",
            "Subscription Type    1\n",
            "Contract Length      3\n",
            "Total Spend          4\n",
            "Last Interaction     2\n",
            "Churn                1\n",
            "dtype: int64\n"
          ]
        }
      ]
    },
    {
      "cell_type": "markdown",
      "source": [
        "## **5. Mengatasi Missing Value**\n"
      ],
      "metadata": {
        "id": "tKuxbFJjg26p"
      }
    },
    {
      "cell_type": "markdown",
      "source": [
        "### **a.  Mengisi missing values untuk kolom numerik dengan mean**\n"
      ],
      "metadata": {
        "id": "tGJYsmmgp296"
      }
    },
    {
      "cell_type": "code",
      "source": [
        "numeric_columns = df.select_dtypes(include=['float64', 'int64']).columns\n",
        "for col in numeric_columns:\n",
        "    df[col].fillna(df[col].mean(), inplace=True)"
      ],
      "metadata": {
        "colab": {
          "base_uri": "https://localhost:8080/"
        },
        "id": "uSehqkXehFRq",
        "outputId": "45dc5756-cc1d-40f3-8c38-47450f608370"
      },
      "execution_count": 6,
      "outputs": [
        {
          "output_type": "stream",
          "name": "stderr",
          "text": [
            "<ipython-input-6-2e7964c9d568>:3: FutureWarning: A value is trying to be set on a copy of a DataFrame or Series through chained assignment using an inplace method.\n",
            "The behavior will change in pandas 3.0. This inplace method will never work because the intermediate object on which we are setting values always behaves as a copy.\n",
            "\n",
            "For example, when doing 'df[col].method(value, inplace=True)', try using 'df.method({col: value}, inplace=True)' or df[col] = df[col].method(value) instead, to perform the operation inplace on the original object.\n",
            "\n",
            "\n",
            "  df[col].fillna(df[col].mean(), inplace=True)\n"
          ]
        }
      ]
    },
    {
      "cell_type": "markdown",
      "source": [
        "### **b. Mengisi missing values untuk kolom kategorikal dengan mode**\n"
      ],
      "metadata": {
        "id": "fIOPJTfluCy1"
      }
    },
    {
      "cell_type": "code",
      "source": [
        "categorical_columns = df.select_dtypes(include=['object']).columns\n",
        "for col in categorical_columns:\n",
        "    df[col].fillna(df[col].mode()[0], inplace=True)"
      ],
      "metadata": {
        "colab": {
          "base_uri": "https://localhost:8080/"
        },
        "id": "AVr1eLmNufaT",
        "outputId": "4105d848-cf22-431f-94c2-5223603bcbcb"
      },
      "execution_count": 7,
      "outputs": [
        {
          "output_type": "stream",
          "name": "stderr",
          "text": [
            "<ipython-input-7-64ca4310aba6>:3: FutureWarning: A value is trying to be set on a copy of a DataFrame or Series through chained assignment using an inplace method.\n",
            "The behavior will change in pandas 3.0. This inplace method will never work because the intermediate object on which we are setting values always behaves as a copy.\n",
            "\n",
            "For example, when doing 'df[col].method(value, inplace=True)', try using 'df.method({col: value}, inplace=True)' or df[col] = df[col].method(value) instead, to perform the operation inplace on the original object.\n",
            "\n",
            "\n",
            "  df[col].fillna(df[col].mode()[0], inplace=True)\n"
          ]
        }
      ]
    },
    {
      "cell_type": "markdown",
      "source": [
        "### **c. Menampilkan jumlah missing values setelah diisi**\n"
      ],
      "metadata": {
        "id": "3z0swctvu11h"
      }
    },
    {
      "cell_type": "code",
      "source": [
        "missing_values_after = df.isnull().sum()\n",
        "print(\"Missing values setelah diatasi:\")\n",
        "print(missing_values_after)"
      ],
      "metadata": {
        "colab": {
          "base_uri": "https://localhost:8080/"
        },
        "id": "0ltTV8WsvJNB",
        "outputId": "12b7f125-b72a-4ae9-e3d0-e1f7776816e1"
      },
      "execution_count": 8,
      "outputs": [
        {
          "output_type": "stream",
          "name": "stdout",
          "text": [
            "Missing values setelah diatasi:\n",
            "CustomerID           0\n",
            "Age                  0\n",
            "Gender               0\n",
            "Tenure               0\n",
            "Usage Frequency      0\n",
            "Support Calls        0\n",
            "Payment Delay        0\n",
            "Subscription Type    0\n",
            "Contract Length      0\n",
            "Total Spend          0\n",
            "Last Interaction     0\n",
            "Churn                0\n",
            "dtype: int64\n"
          ]
        }
      ]
    },
    {
      "cell_type": "markdown",
      "source": [
        "## **6. Mencari Outlier**"
      ],
      "metadata": {
        "id": "T3k8_jIdxumZ"
      }
    },
    {
      "cell_type": "markdown",
      "source": [
        "### **a. Menggunakan Boxplot untuk Semua Kolom Numerik**"
      ],
      "metadata": {
        "id": "G7bQUTNgyxEP"
      }
    },
    {
      "cell_type": "code",
      "source": [
        "# Mengambil kolom numerik dari dataframe\n",
        "numeric_columns = df.select_dtypes(include=['float64', 'int64']).columns\n",
        "\n",
        "# Membuat boxplot untuk setiap kolom numerik\n",
        "plt.figure(figsize=(15, 10))\n",
        "for i, col in enumerate(numeric_columns):\n",
        "    plt.subplot(len(numeric_columns)//3 + 1, 3, i + 1)\n",
        "    sns.boxplot(x=df[col])\n",
        "    plt.title(f'Boxplot of {col}')\n",
        "\n",
        "plt.tight_layout()\n",
        "plt.show()\n"
      ],
      "metadata": {
        "colab": {
          "base_uri": "https://localhost:8080/",
          "height": 781
        },
        "id": "HXSuGVvqx3Mg",
        "outputId": "d0fc889b-51d2-4a19-e418-d90b367f525f"
      },
      "execution_count": 9,
      "outputs": [
        {
          "output_type": "display_data",
          "data": {
            "text/plain": [
              "<Figure size 1500x1000 with 9 Axes>"
            ],
            "image/png": "[encoded data removed]"
          },
          "metadata": {}
        }
      ]
    },
    {
      "cell_type": "markdown",
      "source": [
        "### **b. Menggunakan Z-Score untuk Mendeteksi Outlier di Semua Kolom**"
      ],
      "metadata": {
        "id": "Xu2oJVP7zWF9"
      }
    },
    {
      "cell_type": "code",
      "source": [
        "outliers_dict = {}\n",
        "\n",
        "# Mendeteksi outlier menggunakan z-score untuk setiap kolom numerik\n",
        "for col in numeric_columns:\n",
        "    z_scores = np.abs(stats.zscore(df[col]))\n",
        "    threshold = 3  # Z-score threshold\n",
        "    outliers = df[z_scores > threshold]\n",
        "    outliers_dict[col] = outliers\n",
        "    print(f\"Outliers in {col}:\")\n",
        "    print(outliers)\n",
        "\n",
        "# menampilkan outlier di setiap kolom.\n",
        "for col, outliers in outliers_dict.items():\n",
        "    print(f\"Jumlah outliers di {col}: {len(outliers)}\")\n"
      ],
      "metadata": {
        "colab": {
          "base_uri": "https://localhost:8080/"
        },
        "id": "JHq65IJwznyD",
        "outputId": "63c98776-7632-4857-a8ca-a0e3ff67eed8"
      },
      "execution_count": 10,
      "outputs": [
        {
          "output_type": "stream",
          "name": "stdout",
          "text": [
            "Outliers in CustomerID:\n",
            "Empty DataFrame\n",
            "Columns: [CustomerID, Age, Gender, Tenure, Usage Frequency, Support Calls, Payment Delay, Subscription Type, Contract Length, Total Spend, Last Interaction, Churn]\n",
            "Index: []\n",
            "Outliers in Age:\n",
            "        CustomerID      Age Gender  Tenure  Usage Frequency  Support Calls  \\\n",
            "8             11.0    390.0   Male    12.0              5.0            7.0   \n",
            "200141    204987.0  40000.0   Male    11.0              1.0            2.0   \n",
            "\n",
            "        Payment Delay Subscription Type Contract Length  Total Spend  \\\n",
            "8                 4.0          Standard       Quarterly       969.00   \n",
            "200141           24.0             Basic       Quarterly       731.33   \n",
            "\n",
            "        Last Interaction  Churn  \n",
            "8                   13.0    1.0  \n",
            "200141              20.0    1.0  \n",
            "Outliers in Tenure:\n",
            "Empty DataFrame\n",
            "Columns: [CustomerID, Age, Gender, Tenure, Usage Frequency, Support Calls, Payment Delay, Subscription Type, Contract Length, Total Spend, Last Interaction, Churn]\n",
            "Index: []\n",
            "Outliers in Usage Frequency:\n",
            "Empty DataFrame\n",
            "Columns: [CustomerID, Age, Gender, Tenure, Usage Frequency, Support Calls, Payment Delay, Subscription Type, Contract Length, Total Spend, Last Interaction, Churn]\n",
            "Index: []\n",
            "Outliers in Support Calls:\n",
            "Empty DataFrame\n",
            "Columns: [CustomerID, Age, Gender, Tenure, Usage Frequency, Support Calls, Payment Delay, Subscription Type, Contract Length, Total Spend, Last Interaction, Churn]\n",
            "Index: []\n",
            "Outliers in Payment Delay:\n",
            "Empty DataFrame\n",
            "Columns: [CustomerID, Age, Gender, Tenure, Usage Frequency, Support Calls, Payment Delay, Subscription Type, Contract Length, Total Spend, Last Interaction, Churn]\n",
            "Index: []\n",
            "Outliers in Total Spend:\n",
            "Empty DataFrame\n",
            "Columns: [CustomerID, Age, Gender, Tenure, Usage Frequency, Support Calls, Payment Delay, Subscription Type, Contract Length, Total Spend, Last Interaction, Churn]\n",
            "Index: []\n",
            "Outliers in Last Interaction:\n",
            "Empty DataFrame\n",
            "Columns: [CustomerID, Age, Gender, Tenure, Usage Frequency, Support Calls, Payment Delay, Subscription Type, Contract Length, Total Spend, Last Interaction, Churn]\n",
            "Index: []\n",
            "Outliers in Churn:\n",
            "Empty DataFrame\n",
            "Columns: [CustomerID, Age, Gender, Tenure, Usage Frequency, Support Calls, Payment Delay, Subscription Type, Contract Length, Total Spend, Last Interaction, Churn]\n",
            "Index: []\n",
            "Jumlah outliers di CustomerID: 0\n",
            "Jumlah outliers di Age: 2\n",
            "Jumlah outliers di Tenure: 0\n",
            "Jumlah outliers di Usage Frequency: 0\n",
            "Jumlah outliers di Support Calls: 0\n",
            "Jumlah outliers di Payment Delay: 0\n",
            "Jumlah outliers di Total Spend: 0\n",
            "Jumlah outliers di Last Interaction: 0\n",
            "Jumlah outliers di Churn: 0\n"
          ]
        }
      ]
    },
    {
      "cell_type": "markdown",
      "source": [
        "## **7. Menangani Outlier menggunakan IQR (Interquartile Range) untuk deteksi dan penggantian**\n"
      ],
      "metadata": {
        "id": "5ITY4AGehNua"
      }
    },
    {
      "cell_type": "code",
      "source": [
        "# Menggunakan IQR untuk mendeteksi dan menangani outlier\n",
        "Q1 = df['Age'].quantile(0.25)\n",
        "Q3 = df['Age'].quantile(0.75)\n",
        "IQR = Q3 - Q1\n",
        "\n",
        "# Batas untuk mendeteksi outlier\n",
        "lower_bound = Q1 - 1.5 * IQR\n",
        "upper_bound = Q3 + 1.5 * IQR\n",
        "\n",
        "# Mengganti outlier dengan batas\n",
        "df['Age'] = np.where(df['Age'] > upper_bound, upper_bound, df['Age'])\n",
        "df['Age'] = np.where(df['Age'] < lower_bound, lower_bound, df['Age'])\n"
      ],
      "metadata": {
        "id": "knuvsJE3jBOl"
      },
      "execution_count": 11,
      "outputs": []
    },
    {
      "cell_type": "markdown",
      "source": [
        "## **8. Membuat histogram untuk melihat distribusi data**\n",
        "\n"
      ],
      "metadata": {
        "id": "yArZebXpk3mr"
      }
    },
    {
      "cell_type": "code",
      "source": [
        "plt.figure(figsize=(8, 6))\n",
        "sns.histplot(df['Age'], bins=30, kde=True)\n",
        "plt.title('Distribusi Kolom Age Setelah Penanganan Outlier')\n",
        "plt.show()\n"
      ],
      "metadata": {
        "colab": {
          "base_uri": "https://localhost:8080/",
          "height": 564
        },
        "id": "FJZrGA-7lbIJ",
        "outputId": "e349de4b-b898-4eee-8bc5-c6fe5d8770bb"
      },
      "execution_count": 12,
      "outputs": [
        {
          "output_type": "display_data",
          "data": {
            "text/plain": [
              "<Figure size 800x600 with 1 Axes>"
            ],
            "image/png": "[encoded data removed]"
          },
          "metadata": {}
        }
      ]
    },
    {
      "cell_type": "markdown",
      "source": [
        "## **9. Menyimpan dan mendownload file/data yang sudah dibersihkan**"
      ],
      "metadata": {
        "id": "_qTNA_pPZ6Cs"
      }
    },
    {
      "cell_type": "code",
      "source": [
        "# Menyimpan dataset yang sudah bersih ke file CSV baru\n",
        "df.to_csv('cleaned_churn_dataset.csv', index=False)\n",
        "\n",
        "# Mendownload file CSV yang sudah dibersihkan\n",
        "files.download('cleaned_churn_dataset.csv')\n"
      ],
      "metadata": {
        "colab": {
          "base_uri": "https://localhost:8080/",
          "height": 34
        },
        "id": "cXknmDsOZ5sJ",
        "outputId": "ca258d1d-1547-497c-a046-a6514268735f"
      },
      "execution_count": 13,
      "outputs": [
        {
          "output_type": "display_data",
          "data": {
            "text/plain": [
              "<IPython.core.display.Javascript object>"
            ],
            "application/javascript": [
              "\n",
              "    async function download(id, filename, size) {\n",
              "      if (!google.colab.kernel.accessAllowed) {\n",
              "        return;\n",
              "      }\n",
              "      const div = document.createElement('div');\n",
              "      const label = document.createElement('label');\n",
              "      label.textContent = `Downloading \"${filename}\": `;\n",
              "      div.appendChild(label);\n",
              "      const progress = document.createElement('progress');\n",
              "      progress.max = size;\n",
              "      div.appendChild(progress);\n",
              "      document.body.appendChild(div);\n",
              "\n",
              "      const buffers = [];\n",
              "      let downloaded = 0;\n",
              "\n",
              "      const channel = await google.colab.kernel.comms.open(id);\n",
              "      // Send a message to notify the kernel that we're ready.\n",
              "      channel.send({})\n",
              "\n",
              "      for await (const message of channel.messages) {\n",
              "        // Send a message to notify the kernel that we're ready.\n",
              "        channel.send({})\n",
              "        if (message.buffers) {\n",
              "          for (const buffer of message.buffers) {\n",
              "            buffers.push(buffer);\n",
              "            downloaded += buffer.byteLength;\n",
              "            progress.value = downloaded;\n",
              "          }\n",
              "        }\n",
              "      }\n",
              "      const blob = new Blob(buffers, {type: 'application/binary'});\n",
              "      const a = document.createElement('a');\n",
              "      a.href = window.URL.createObjectURL(blob);\n",
              "      a.download = filename;\n",
              "      div.appendChild(a);\n",
              "      a.click();\n",
              "      div.remove();\n",
              "    }\n",
              "  "
            ]
          },
          "metadata": {}
        },
        {
          "output_type": "display_data",
          "data": {
            "text/plain": [
              "<IPython.core.display.Javascript object>"
            ],
            "application/javascript": [
              "download(\"download_0c001cf1-0ced-4978-9197-f1dbdf14569a\", \"cleaned_churn_dataset.csv\", 30465050)"
            ]
          },
          "metadata": {}
        }
      ]
    }
  ]
}